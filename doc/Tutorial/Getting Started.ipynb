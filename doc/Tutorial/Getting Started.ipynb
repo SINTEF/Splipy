{
 "cells": [
  {
   "cell_type": "markdown",
   "metadata": {},
   "source": [
    "# Getting started with splipy\n",
    "\n",
    "## Topics\n",
    "\n",
    "* [Knots and Bolts](Knots and Bolts.ipynb) - Knot vectors, basis functions, curves, surfaces and volumes\n",
    "* [Basic Manipulations](Basic manipulation.ipynb) - Working with existing splines: translation, rotation, controlpoint manipulation\n",
    "* [Factory methods](Factory methods.ipynb) - High-level object creation: curves, surfaces and volumes\n",
    "\n",
    "\n"
   ]
  },
  {
   "cell_type": "code",
   "execution_count": null,
   "metadata": {
    "collapsed": true
   },
   "outputs": [],
   "source": []
  }
 ],
 "metadata": {
  "kernelspec": {
   "display_name": "Python 3",
   "language": "python",
   "name": "python3"
  },
  "language_info": {
   "codemirror_mode": {
    "name": "ipython",
    "version": 3
   },
   "file_extension": ".py",
   "mimetype": "text/x-python",
   "name": "python",
   "nbconvert_exporter": "python",
   "pygments_lexer": "ipython3",
   "version": "3.5.2"
  }
 },
 "nbformat": 4,
 "nbformat_minor": 2
}
